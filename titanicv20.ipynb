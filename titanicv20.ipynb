{
 "metadata": {
  "kernelspec": {
   "language": "python",
   "display_name": "Python 3",
   "name": "python3"
  },
  "language_info": {
   "name": "python",
   "version": "3.7.12",
   "mimetype": "text/x-python",
   "codemirror_mode": {
    "name": "ipython",
    "version": 3
   },
   "pygments_lexer": "ipython3",
   "nbconvert_exporter": "python",
   "file_extension": ".py"
  },
  "colab": {
   "name": "titanicv20.ipynb",
   "provenance": [
    {
     "file_id": "1oMsCfNv7u93mZtb0F7sFX3fN8vPgdrNP",
     "timestamp": 1659642210321
    },
    {
     "file_id": "1eNbxyAwsYMRv5035ACaz-vohSU551Lzc",
     "timestamp": 1658777521896
    }
   ],
   "collapsed_sections": [
    "gI7a0MiJstUX",
    "ttSrchNrstUZ",
    "dzMl2hGpstUg",
    "TnY4PmaNstUk",
    "4nohmTKDstUl",
    "O9VzwCwCstUq"
   ]
  }
 },
 "nbformat_minor": 0,
 "nbformat": 4,
 "cells": [
  {
   "cell_type": "markdown",
   "source": [
    "# **Titanic - Machine Learning from Disaster**\n"
   ],
   "metadata": {
    "pycharm": {
     "name": "#%% md\n"
    },
    "id": "PY2E1u_dstT5"
   }
  },
  {
   "cell_type": "code",
   "source": [
    "# from google.colab import drive\n",
    "# drive.mount('/content/drive')"
   ],
   "metadata": {
    "colab": {
     "base_uri": "https://localhost:8080/"
    },
    "id": "y44LsBnRs55O",
    "executionInfo": {
     "status": "ok",
     "timestamp": 1659675903009,
     "user_tz": -270,
     "elapsed": 3169,
     "user": {
      "displayName": "aqil zeinalzadeh",
      "userId": "15082579603328818766"
     }
    },
    "outputId": "56171e18-9d5e-4c1d-bc19-e2c7500cf61a"
   },
   "execution_count": 1,
   "outputs": []
  },
  {
   "cell_type": "markdown",
   "source": [
    "# Table of Contents"
   ],
   "metadata": {
    "id": "mwrHOi06stT-"
   }
  },
  {
   "cell_type": "markdown",
   "source": [
    "* [1: Modules](#Modules)\n",
    "* [2: Preparing Data](#PreparingData)\n",
    "    * [2.1: Read Data](#ReadData)\n",
    "    * [2.2: Missed Data Status](#MissedDataStatus)\n",
    "    * [2.3: Data Labeling](#DataLabeling)\n",
    "    * [2.3: Data Visualization](#DataVisualization)\n",
    "    * [2.3: Imputer Design](#ImputerDesign)\n",
    "    * [2.3: Encoder Design](#EncoderDesign)\n",
    "    * [2.3: Drop Useless Features](#DropUselessFeatures)\n",
    "* [3: Dimensionality Reduction](#DimensionalityReduction)\n",
    "    * [3.1: Sensitivity Analysis](#SensitivityAnalysis)\n",
    "        * [3.2: Decide on effective features](#DecideonEffectiveFeatures)\n",
    "    * [3.3: UMAP Algorithm](#UMAPAlgorithm)\n",
    "    \n",
    "* [4: Machine Learning Design](#MachineLearning)\n",
    "    * [4.1: Scaling](#Scaling)\n",
    "    * [4.2: Cross Validation Prediction](#CrossValidationPrediction)\n",
    "    * [4.3: Tuning Hyper Parameters](#TuningHyperParameters)\n",
    "    * [4.4: Prediction](#Prediction)\n",
    "    \n"
   ],
   "metadata": {
    "pycharm": {
     "name": "#%% md\n"
    },
    "id": "PhzrnhjxstUB"
   }
  },
  {
   "cell_type": "markdown",
   "source": [
    "<a class=\"anchor\" id=\"Modules\"></a>\n",
    "### **Modules** "
   ],
   "metadata": {
    "id": "fPzFJGvestUH"
   }
  },
  {
   "cell_type": "code",
   "source": [
    "import numpy as np\n",
    "import seaborn as sns\n",
    "import pandas as pd\n",
    "import matplotlib.pyplot as plt\n",
    "import matplotlib.mlab as mlab\n",
    "import matplotlib\n",
    "import math\n",
    "from sklearn import svm, ensemble\n",
    "from sklearn.model_selection import train_test_split\n",
    "from sklearn.preprocessing import StandardScaler, MinMaxScaler\n",
    "from sklearn.metrics import accuracy_score\n",
    "from sklearn.metrics import classification_report, confusion_matrix\n",
    "from sklearn.manifold import TSNE\n",
    "from sklearn.pipeline import Pipeline\n",
    "from sklearn.neighbors import KNeighborsClassifier\n",
    "from sklearn.linear_model import SGDClassifier\n",
    "from sklearn.model_selection import cross_val_predict, cross_val_score\n",
    "from sklearn.metrics import RocCurveDisplay, PrecisionRecallDisplay\n",
    "from sklearn.metrics import classification_report\n",
    "from matplotlib.pyplot import figure\n",
    "from sklearn.impute import SimpleImputer\n",
    "from sklearn.model_selection import RandomizedSearchCV\n",
    "from sklearn.naive_bayes import GaussianNB,CategoricalNB,BernoulliNB,ComplementNB\n",
    "from sklearn.decomposition import PCA\n",
    "from sklearn.linear_model import LogisticRegression\n"
   ],
   "metadata": {
    "jupyter": {
     "outputs_hidden": false
    },
    "pycharm": {
     "name": "#%%\n"
    },
    "execution": {
     "iopub.status.busy": "2022-07-25T16:21:12.901211Z",
     "iopub.execute_input": "2022-07-25T16:21:12.902354Z",
     "iopub.status.idle": "2022-07-25T16:21:13.540723Z",
     "shell.execute_reply.started": "2022-07-25T16:21:12.902229Z",
     "shell.execute_reply": "2022-07-25T16:21:13.539837Z"
    },
    "trusted": true,
    "id": "qH4SfpUystUI",
    "executionInfo": {
     "status": "ok",
     "timestamp": 1659675910401,
     "user_tz": -270,
     "elapsed": 2653,
     "user": {
      "displayName": "aqil zeinalzadeh",
      "userId": "15082579603328818766"
     }
    }
   },
   "execution_count": 2,
   "outputs": []
  },
  {
   "cell_type": "markdown",
   "source": [
    "### **Preparing Data** \n",
    "<a class=\"anchor\" id=\"PreparingData\"></a>\n",
    "\n"
   ],
   "metadata": {
    "id": "V0X04vPkstUL"
   }
  },
  {
   "cell_type": "markdown",
   "source": [
    "<a class=\"anchor\" id=\"ReadData\"></a>\n",
    "#### **Read Data** "
   ],
   "metadata": {
    "id": "L5Hia7er10e8"
   }
  },
  {
   "cell_type": "code",
   "source": [
    "# mdata = pd.read_csv('/kaggle/input/titanic/train.csv')\n",
    "# mdata = pd.read_csv('/content/drive/MyDrive/train.csv')\n",
    "# tdata = pd.read_csv('/content/drive/MyDrive/test.csv')\n",
    "mdata = pd.read_csv('E:\\\\Learnings\\\\dataScience\\\\train.csv')\n",
    "tdata = pd.read_csv('E:\\\\Learnings\\\\dataScience\\\\test.csv')\n",
    "tdata.head()"
   ],
   "metadata": {
    "jupyter": {
     "outputs_hidden": false
    },
    "pycharm": {
     "name": "#%%\n"
    },
    "execution": {
     "iopub.status.busy": "2022-07-25T16:21:15.361314Z",
     "iopub.execute_input": "2022-07-25T16:21:15.361718Z",
     "iopub.status.idle": "2022-07-25T16:21:15.394724Z",
     "shell.execute_reply.started": "2022-07-25T16:21:15.361683Z",
     "shell.execute_reply": "2022-07-25T16:21:15.393927Z"
    },
    "trusted": true,
    "colab": {
     "base_uri": "https://localhost:8080/",
     "height": 285
    },
    "id": "upkjLA1jstUR",
    "executionInfo": {
     "status": "ok",
     "timestamp": 1659675919309,
     "user_tz": -270,
     "elapsed": 821,
     "user": {
      "displayName": "aqil zeinalzadeh",
      "userId": "15082579603328818766"
     }
    },
    "outputId": "bbb5248c-469b-4803-d458-2ce2ba9506b7"
   },
   "execution_count": 3,
   "outputs": [
    {
     "data": {
      "text/plain": "   PassengerId  Pclass                                          Name     Sex  \\\n0          892       3                              Kelly, Mr. James    male   \n1          893       3              Wilkes, Mrs. James (Ellen Needs)  female   \n2          894       2                     Myles, Mr. Thomas Francis    male   \n3          895       3                              Wirz, Mr. Albert    male   \n4          896       3  Hirvonen, Mrs. Alexander (Helga E Lindqvist)  female   \n\n    Age  SibSp  Parch   Ticket     Fare Cabin Embarked  \n0  34.5      0      0   330911   7.8292   NaN        Q  \n1  47.0      1      0   363272   7.0000   NaN        S  \n2  62.0      0      0   240276   9.6875   NaN        Q  \n3  27.0      0      0   315154   8.6625   NaN        S  \n4  22.0      1      1  3101298  12.2875   NaN        S  ",
      "text/html": "<div>\n<style scoped>\n    .dataframe tbody tr th:only-of-type {\n        vertical-align: middle;\n    }\n\n    .dataframe tbody tr th {\n        vertical-align: top;\n    }\n\n    .dataframe thead th {\n        text-align: right;\n    }\n</style>\n<table border=\"1\" class=\"dataframe\">\n  <thead>\n    <tr style=\"text-align: right;\">\n      <th></th>\n      <th>PassengerId</th>\n      <th>Pclass</th>\n      <th>Name</th>\n      <th>Sex</th>\n      <th>Age</th>\n      <th>SibSp</th>\n      <th>Parch</th>\n      <th>Ticket</th>\n      <th>Fare</th>\n      <th>Cabin</th>\n      <th>Embarked</th>\n    </tr>\n  </thead>\n  <tbody>\n    <tr>\n      <th>0</th>\n      <td>892</td>\n      <td>3</td>\n      <td>Kelly, Mr. James</td>\n      <td>male</td>\n      <td>34.5</td>\n      <td>0</td>\n      <td>0</td>\n      <td>330911</td>\n      <td>7.8292</td>\n      <td>NaN</td>\n      <td>Q</td>\n    </tr>\n    <tr>\n      <th>1</th>\n      <td>893</td>\n      <td>3</td>\n      <td>Wilkes, Mrs. James (Ellen Needs)</td>\n      <td>female</td>\n      <td>47.0</td>\n      <td>1</td>\n      <td>0</td>\n      <td>363272</td>\n      <td>7.0000</td>\n      <td>NaN</td>\n      <td>S</td>\n    </tr>\n    <tr>\n      <th>2</th>\n      <td>894</td>\n      <td>2</td>\n      <td>Myles, Mr. Thomas Francis</td>\n      <td>male</td>\n      <td>62.0</td>\n      <td>0</td>\n      <td>0</td>\n      <td>240276</td>\n      <td>9.6875</td>\n      <td>NaN</td>\n      <td>Q</td>\n    </tr>\n    <tr>\n      <th>3</th>\n      <td>895</td>\n      <td>3</td>\n      <td>Wirz, Mr. Albert</td>\n      <td>male</td>\n      <td>27.0</td>\n      <td>0</td>\n      <td>0</td>\n      <td>315154</td>\n      <td>8.6625</td>\n      <td>NaN</td>\n      <td>S</td>\n    </tr>\n    <tr>\n      <th>4</th>\n      <td>896</td>\n      <td>3</td>\n      <td>Hirvonen, Mrs. Alexander (Helga E Lindqvist)</td>\n      <td>female</td>\n      <td>22.0</td>\n      <td>1</td>\n      <td>1</td>\n      <td>3101298</td>\n      <td>12.2875</td>\n      <td>NaN</td>\n      <td>S</td>\n    </tr>\n  </tbody>\n</table>\n</div>"
     },
     "execution_count": 3,
     "metadata": {},
     "output_type": "execute_result"
    }
   ]
  },
  {
   "cell_type": "markdown",
   "source": [
    "**bold text**<a class=\"anchor\" id=\"MissedDataStatus\"></a>\n",
    "#### **Missed Data Status** "
   ],
   "metadata": {
    "pycharm": {
     "name": "#%% md\n"
    },
    "id": "5R6b42R0stUV"
   }
  },
  {
   "cell_type": "code",
   "source": [
    "plt.figure(dpi=100)\n",
    "# sns.heatmap(mdata.isnull(), cmap=\"Greens\")\n",
    "# plt.xlabel('Feature')\n",
    "# plt.ylabel('Observation')\n",
    "mdata.isnull().sum()"
   ],
   "metadata": {
    "jupyter": {
     "outputs_hidden": false
    },
    "pycharm": {
     "name": "#%%\n"
    },
    "execution": {
     "iopub.status.busy": "2022-07-25T16:22:34.140698Z",
     "iopub.execute_input": "2022-07-25T16:22:34.141148Z",
     "iopub.status.idle": "2022-07-25T16:22:34.546643Z",
     "shell.execute_reply.started": "2022-07-25T16:22:34.141112Z",
     "shell.execute_reply": "2022-07-25T16:22:34.545824Z"
    },
    "trusted": true,
    "colab": {
     "base_uri": "https://localhost:8080/",
     "height": 684
    },
    "id": "LdIC3PDqstUX",
    "executionInfo": {
     "status": "ok",
     "timestamp": 1659677109673,
     "user_tz": -270,
     "elapsed": 1010,
     "user": {
      "displayName": "aqil zeinalzadeh",
      "userId": "15082579603328818766"
     }
    },
    "outputId": "4a6a56b1-fafa-4ff8-a062-1a24e09db420"
   },
   "execution_count": 4,
   "outputs": [
    {
     "data": {
      "text/plain": "PassengerId      0\nSurvived         0\nPclass           0\nName             0\nSex              0\nAge            177\nSibSp            0\nParch            0\nTicket           0\nFare             0\nCabin          687\nEmbarked         2\ndtype: int64"
     },
     "execution_count": 4,
     "metadata": {},
     "output_type": "execute_result"
    },
    {
     "data": {
      "text/plain": "<Figure size 600x400 with 0 Axes>"
     },
     "metadata": {},
     "output_type": "display_data"
    }
   ]
  },
  {
   "cell_type": "code",
   "source": [
    "# Data Preparation (Integration)\n",
    "xcol1 = [\"Name\",\"Age\", \"Sex\",\"Embarked\", \"Pclass\",\"Fare\",\"SibSp\",\"Parch\" ]\n",
    "integ_data = pd.concat([mdata[xcol1],tdata[xcol1]])"
   ],
   "metadata": {
    "id": "ioeJjVsFE0aQ"
   },
   "execution_count": 5,
   "outputs": []
  },
  {
   "cell_type": "markdown",
   "source": [
    "<a class=\"anchor\" id=\"ImputerDesign\"></a>\n",
    "#### **Imputer Design**"
   ],
   "metadata": {
    "id": "7GOkMOxEc-7_"
   }
  },
  {
   "cell_type": "code",
   "source": [
    "Imputer = SimpleImputer(strategy= 'most_frequent', missing_values=np.nan)\n",
    "# Imputer.fit(mdata[['Age_group']])\n",
    "# mdata[['Age_group']] = Imputer.transform(mdata[[\"Age_group\"]])\n",
    "Imputer.fit(mdata[['Embarked']])\n",
    "mdata[['Embarked']] = Imputer.transform(mdata[[\"Embarked\"]])\n",
    "# #-----\n",
    "# Imputer.fit(tdata[['Age_group']])\n",
    "# tdata[['Age_group']] = Imputer.transform(tdata[[\"Age_group\"]])\n",
    "# Imputer.fit(tdata[['Embarked']])\n",
    "# tdata[['Embarked']] = Imputer.transform(tdata[[\"Embarked\"]])\n",
    "# #-----\n",
    "# Imputer.fit(integ_data[['Age_group']])\n",
    "# integ_data[['Age_group']] = Imputer.transform(integ_data[[\"Age_group\"]])\n",
    "Imputer.fit(integ_data[['Embarked']])\n",
    "integ_data[['Embarked']] = Imputer.transform(integ_data[[\"Embarked\"]])\n",
    "# ___________________________________________________________________\n",
    "# Method 2\n",
    "mean_age_men=mdata[mdata['Sex']==\"male\"]['Age'].median()\n",
    "mean_age_women=mdata[mdata['Sex']==\"female\"]['Age'].median()\n",
    "mdata.loc[(mdata.Age.isnull()) & (mdata['Sex']==\"female\"),'Age']=mean_age_women\n",
    "mdata.loc[(mdata.Age.isnull()) & (mdata['Sex']==\"male\"),'Age']=mean_age_men\n",
    "mean_age_men=tdata[tdata['Sex']==\"male\"]['Age'].median()\n",
    "mean_age_women=tdata[tdata['Sex']==\"female\"]['Age'].median()\n",
    "tdata.loc[(tdata.Age.isnull()) & (tdata['Sex']==\"female\"),'Age']=mean_age_women\n",
    "tdata.loc[(tdata.Age.isnull()) & (tdata['Sex']==\"male\"),'Age']=mean_age_men"
   ],
   "metadata": {
    "id": "4OAOOQcAdR1f"
   },
   "execution_count": 6,
   "outputs": []
  },
  {
   "cell_type": "markdown",
   "source": [
    "<a class=\"anchor\" id=\"DataLabeling\"></a>\n",
    "#### **Data Labeling**"
   ],
   "metadata": {
    "id": "gI7a0MiJstUX"
   }
  },
  {
   "cell_type": "code",
   "source": [
    "def data_cleaner(data):\n",
    "    data[\"Title\"] = data[\"Name\"].apply(lambda x: x[x.find(',') : x.find('.')][1:].strip())\n",
    "    data[\"Title\"] = data[\"Title\"].apply(lambda x: 'Mr' if x == 'Mr' else x) # Mr\n",
    "    data[\"Title\"] = data[\"Title\"].apply(lambda x: 'Miss' if x == 'Ms'or x == 'Mme' or x=='Mlle' else x) #Miss\n",
    "    data[\"Title\"] = data[\"Title\"].apply(lambda x: 'Mrs' if x == 'Mrs' else x) #Mrs\n",
    "    data[\"Title\"] = data[\"Title\"].apply(lambda x: 'Master' if x == 'Master' else x) #Master\n",
    "    data[\"Title\"] = data[\"Title\"].apply(lambda x: 'Others' if x != 'Mr' and x != 'Miss' and x!= 'Mrs' and x!= 'Master' else x)\n",
    "\n",
    "    data[\"Age_group\"] = data[\"Age\"].apply( lambda x: 'KIDs' if math.isnan(x)==False and x<=16 else x)\n",
    "    data[\"Age_group\"] = data[\"Age_group\"].apply( lambda x: 'TEENs' if (type(x) != str and math.isnan(x) == False and x<=32 and x >16) else x)\n",
    "    data[\"Age_group\"] = data[\"Age_group\"].apply( lambda x: 'YOUNGs' if (type(x) != str and math.isnan(x) == False and x<=48 and x >32) else x)\n",
    "    data[\"Age_group\"] = data[\"Age_group\"].apply( lambda x: 'ADULTS' if (type(x) != str and math.isnan(x) == False and x<=64 and x >48) else x)\n",
    "    data[\"Age_group\"] = data[\"Age_group\"].apply( lambda x: 'OLDs' if (type(x) != str and math.isnan(x)==False and x >64) else x)\n",
    "    \n",
    "    data[\"FamSize\"] = data[\"SibSp\"]+data[\"Parch\"]+1\n",
    "    data[\"IsAlone\"] = 0\n",
    "    data.loc[data[\"FamSize\"] == 1, 'IsAlone'] = 1\n",
    "    data[\"FamSizeLabel\"] = data[\"FamSize\"].apply( lambda x: 'Small' if int(x)<=2 else 'Large')\n",
    "\n",
    "    data[\"FareInter\"] = data[\"Fare\"].apply(   \n",
    "        lambda x: 'LowFare' if x<=130 else ('MidFar' if float(x)>=130 and float(x)<=256 else (\"HighFare\" if float(x)>=256 and float(x)<=384 else \"ExtraFare\"))\n",
    "        )\n",
    "    return data\n",
    "\n",
    "data_cleaner(mdata)\n",
    "data_cleaner(tdata)\n",
    "data_cleaner(integ_data)\n",
    "tdata.head()"
   ],
   "metadata": {
    "jupyter": {
     "outputs_hidden": false
    },
    "pycharm": {
     "name": "#%%\n"
    },
    "execution": {
     "iopub.status.busy": "2022-07-25T16:22:36.842957Z",
     "iopub.execute_input": "2022-07-25T16:22:36.843650Z",
     "iopub.status.idle": "2022-07-25T16:22:36.904000Z",
     "shell.execute_reply.started": "2022-07-25T16:22:36.843607Z",
     "shell.execute_reply": "2022-07-25T16:22:36.902830Z"
    },
    "trusted": true,
    "colab": {
     "base_uri": "https://localhost:8080/",
     "height": 237
    },
    "id": "9WOwK4d8stUY",
    "executionInfo": {
     "status": "error",
     "timestamp": 1659674900075,
     "user_tz": -270,
     "elapsed": 19,
     "user": {
      "displayName": "aqil zeinalzadeh",
      "userId": "15082579603328818766"
     }
    },
    "outputId": "c571984f-ab5b-4e5d-f818-775a51345d00"
   },
   "execution_count": 7,
   "outputs": [
    {
     "data": {
      "text/plain": "   PassengerId  Pclass                                          Name     Sex  \\\n0          892       3                              Kelly, Mr. James    male   \n1          893       3              Wilkes, Mrs. James (Ellen Needs)  female   \n2          894       2                     Myles, Mr. Thomas Francis    male   \n3          895       3                              Wirz, Mr. Albert    male   \n4          896       3  Hirvonen, Mrs. Alexander (Helga E Lindqvist)  female   \n\n    Age  SibSp  Parch   Ticket     Fare Cabin Embarked Title Age_group  \\\n0  34.5      0      0   330911   7.8292   NaN        Q    Mr    YOUNGs   \n1  47.0      1      0   363272   7.0000   NaN        S   Mrs    YOUNGs   \n2  62.0      0      0   240276   9.6875   NaN        Q    Mr    ADULTS   \n3  27.0      0      0   315154   8.6625   NaN        S    Mr     TEENs   \n4  22.0      1      1  3101298  12.2875   NaN        S   Mrs     TEENs   \n\n   FamSize  IsAlone FamSizeLabel FareInter  \n0        1        1        Small   LowFare  \n1        2        0        Small   LowFare  \n2        1        1        Small   LowFare  \n3        1        1        Small   LowFare  \n4        3        0        Large   LowFare  ",
      "text/html": "<div>\n<style scoped>\n    .dataframe tbody tr th:only-of-type {\n        vertical-align: middle;\n    }\n\n    .dataframe tbody tr th {\n        vertical-align: top;\n    }\n\n    .dataframe thead th {\n        text-align: right;\n    }\n</style>\n<table border=\"1\" class=\"dataframe\">\n  <thead>\n    <tr style=\"text-align: right;\">\n      <th></th>\n      <th>PassengerId</th>\n      <th>Pclass</th>\n      <th>Name</th>\n      <th>Sex</th>\n      <th>Age</th>\n      <th>SibSp</th>\n      <th>Parch</th>\n      <th>Ticket</th>\n      <th>Fare</th>\n      <th>Cabin</th>\n      <th>Embarked</th>\n      <th>Title</th>\n      <th>Age_group</th>\n      <th>FamSize</th>\n      <th>IsAlone</th>\n      <th>FamSizeLabel</th>\n      <th>FareInter</th>\n    </tr>\n  </thead>\n  <tbody>\n    <tr>\n      <th>0</th>\n      <td>892</td>\n      <td>3</td>\n      <td>Kelly, Mr. James</td>\n      <td>male</td>\n      <td>34.5</td>\n      <td>0</td>\n      <td>0</td>\n      <td>330911</td>\n      <td>7.8292</td>\n      <td>NaN</td>\n      <td>Q</td>\n      <td>Mr</td>\n      <td>YOUNGs</td>\n      <td>1</td>\n      <td>1</td>\n      <td>Small</td>\n      <td>LowFare</td>\n    </tr>\n    <tr>\n      <th>1</th>\n      <td>893</td>\n      <td>3</td>\n      <td>Wilkes, Mrs. James (Ellen Needs)</td>\n      <td>female</td>\n      <td>47.0</td>\n      <td>1</td>\n      <td>0</td>\n      <td>363272</td>\n      <td>7.0000</td>\n      <td>NaN</td>\n      <td>S</td>\n      <td>Mrs</td>\n      <td>YOUNGs</td>\n      <td>2</td>\n      <td>0</td>\n      <td>Small</td>\n      <td>LowFare</td>\n    </tr>\n    <tr>\n      <th>2</th>\n      <td>894</td>\n      <td>2</td>\n      <td>Myles, Mr. Thomas Francis</td>\n      <td>male</td>\n      <td>62.0</td>\n      <td>0</td>\n      <td>0</td>\n      <td>240276</td>\n      <td>9.6875</td>\n      <td>NaN</td>\n      <td>Q</td>\n      <td>Mr</td>\n      <td>ADULTS</td>\n      <td>1</td>\n      <td>1</td>\n      <td>Small</td>\n      <td>LowFare</td>\n    </tr>\n    <tr>\n      <th>3</th>\n      <td>895</td>\n      <td>3</td>\n      <td>Wirz, Mr. Albert</td>\n      <td>male</td>\n      <td>27.0</td>\n      <td>0</td>\n      <td>0</td>\n      <td>315154</td>\n      <td>8.6625</td>\n      <td>NaN</td>\n      <td>S</td>\n      <td>Mr</td>\n      <td>TEENs</td>\n      <td>1</td>\n      <td>1</td>\n      <td>Small</td>\n      <td>LowFare</td>\n    </tr>\n    <tr>\n      <th>4</th>\n      <td>896</td>\n      <td>3</td>\n      <td>Hirvonen, Mrs. Alexander (Helga E Lindqvist)</td>\n      <td>female</td>\n      <td>22.0</td>\n      <td>1</td>\n      <td>1</td>\n      <td>3101298</td>\n      <td>12.2875</td>\n      <td>NaN</td>\n      <td>S</td>\n      <td>Mrs</td>\n      <td>TEENs</td>\n      <td>3</td>\n      <td>0</td>\n      <td>Large</td>\n      <td>LowFare</td>\n    </tr>\n  </tbody>\n</table>\n</div>"
     },
     "execution_count": 7,
     "metadata": {},
     "output_type": "execute_result"
    }
   ]
  },
  {
   "cell_type": "markdown",
   "source": [
    "<a class=\"anchor\" id=\"DataVisualization\"></a>\n",
    "#### **Data Visualization**"
   ],
   "metadata": {
    "id": "ttSrchNrstUZ"
   }
  },
  {
   "cell_type": "code",
   "source": [
    "xcol = [\"Age\",\"Title\", \"Sex\",\"Embarked\", \"Pclass\",\"Fare\" ]\n",
    "huecol = \"Survived\"\n",
    "r = 3\n",
    "c = 2\n",
    "def mybar(data, xcol, huecol, r, c):\n",
    "    i = -1\n",
    "    sns.set_theme(style=\"ticks\")\n",
    "    f, ax = plt.subplots(r,c,figsize=(18, 7))\n",
    "    sns.despine(f)\n",
    "    for col in xcol:\n",
    "        i+=1\n",
    "        y = lambda y: int(0) if y<3 else int(1)\n",
    "        x = lambda x: x if x<3 else int(x-3)\n",
    "        sns.histplot( data, x=col, hue=huecol, multiple=\"stack\", palette=\"light:m_r\",\n",
    "            edgecolor=\".3\", linewidth=.5, log_scale=False,ax = ax[x(i), y(i)])\n",
    "mybar(mdata, xcol, huecol, r, c)\n",
    "mdata.isnull().sum()"
   ],
   "metadata": {
    "pycharm": {
     "name": "#%%\n"
    },
    "execution": {
     "iopub.status.busy": "2022-07-25T16:23:10.504622Z",
     "iopub.execute_input": "2022-07-25T16:23:10.505690Z",
     "iopub.status.idle": "2022-07-25T16:23:12.210390Z",
     "shell.execute_reply.started": "2022-07-25T16:23:10.505649Z",
     "shell.execute_reply": "2022-07-25T16:23:12.209259Z"
    },
    "trusted": true,
    "colab": {
     "base_uri": "https://localhost:8080/",
     "height": 449
    },
    "id": "BzHdPVchstUa",
    "executionInfo": {
     "status": "ok",
     "timestamp": 1659637116018,
     "user_tz": -270,
     "elapsed": 2397,
     "user": {
      "displayName": "aqil zeinalzadeh",
      "userId": "15082579603328818766"
     }
    },
    "outputId": "dcf2ce5c-64c9-4e9f-eb14-27b5b4d07041"
   },
   "execution_count": 8,
   "outputs": [
    {
     "data": {
      "text/plain": "PassengerId       0\nSurvived          0\nPclass            0\nName              0\nSex               0\nAge               0\nSibSp             0\nParch             0\nTicket            0\nFare              0\nCabin           687\nEmbarked          0\nTitle             0\nAge_group         0\nFamSize           0\nIsAlone           0\nFamSizeLabel      0\nFareInter         0\ndtype: int64"
     },
     "execution_count": 8,
     "metadata": {},
     "output_type": "execute_result"
    },
    {
     "data": {
      "text/plain": "<Figure size 1296x504 with 6 Axes>",
      "image/png": "[encoded data removed]"
     },
     "metadata": {},
     "output_type": "display_data"
    }
   ]
  },
  {
   "cell_type": "markdown",
   "source": [
    "<a class=\"anchor\" id=\"EncoderDesign\"></a>\n",
    "#### **Encoder Design**"
   ],
   "metadata": {
    "id": "dzMl2hGpstUg"
   }
  },
  {
   "cell_type": "code",
   "source": [
    "from sklearn.preprocessing import OneHotEncoder\n",
    "enc = OneHotEncoder(handle_unknown='ignore')\n",
    "\n",
    "def titanic_encoder(data):\n",
    "    enc.fit(data[[\"Embarked\"]])\n",
    "    data[[\"S\",\"C\",\"Q\"]] = \\\n",
    "        pd.DataFrame(enc.transform(data[[\"Embarked\"]]).toarray())\n",
    "    #----\n",
    "    enc.fit(data[[\"Sex\"]])\n",
    "    data[[\"F\",\"M\"]] = \\\n",
    "        pd.DataFrame(enc.transform(data[[\"Sex\"]]).toarray())\n",
    "    #----\n",
    "    #----\n",
    "    enc.fit(data[[\"Age_group\"]])\n",
    "    data[[\"Age1\",\"Age2\",\"Age3\",\"Age4\"]] = \\\n",
    "        pd.DataFrame(enc.transform(data[[\"Age_group\"]]).toarray())\n",
    "    #----\n",
    "    enc.fit(mdata[[\"FamSizeLabel\"]])\n",
    "    data[[\"Small\",\"Large\"]] = \\\n",
    "        pd.DataFrame(enc.transform(data[[\"FamSizeLabel\"]]).toarray())\n",
    "    #----\n",
    "    enc.fit(mdata[[\"Pclass\"]])\n",
    "    data[[\"C1\",\"C2\",\"C3\"]] = \\\n",
    "        pd.DataFrame(enc.transform(data[[\"Pclass\"]]).toarray())\n",
    "    #----\n",
    "    enc.fit(mdata[[\"FareInter\"]])\n",
    "    data[[\"F1\",\"F2\",\"F3\"]] = \\\n",
    "        pd.DataFrame(enc.transform(data[[\"FareInter\"]]).toarray())\n",
    "    return data\n",
    "def map_encoder(data):\n",
    "    data['Sex'] = data['Sex'].map( {'female':1,'male':0}).astype(int)\n",
    "    data['Embarked'] = data['Embarked'].map({'S':0, 'C':1, 'Q':2}).astype(int)\n",
    "    data[\"FareInter\"] = data[\"FareInter\"].map({'LowFare':0,'MidFar':1,'HighFare':2,'ExtraFare':3,}).astype(int)\n",
    "    data[\"Age_group\"] = data[\"Age_group\"].map({'KIDs':0,'TEENs':1,'YOUNGs':2,'ADULTS':3,'OLDs':3,}).astype(int)\n",
    "    data[\"Title\"] = data[\"Title\"].map({'Mr':0,'Miss':1,'Mrs':2,'Master':3,'Others':3,}).astype(int)\n",
    "    data[\"Pclass\"] = data[\"Pclass\"].astype(int)\n",
    "\n",
    "    return data\n",
    "enc_mdata = map_encoder(mdata)\n",
    "enc_tdata = map_encoder(tdata)\n",
    "# enc_integ_data = map_encoder(integ_data)"
   ],
   "metadata": {
    "jupyter": {
     "outputs_hidden": false
    },
    "pycharm": {
     "name": "#%%\n"
    },
    "execution": {
     "iopub.status.busy": "2022-07-25T16:23:20.635239Z",
     "iopub.execute_input": "2022-07-25T16:23:20.635634Z",
     "iopub.status.idle": "2022-07-25T16:23:20.720630Z",
     "shell.execute_reply.started": "2022-07-25T16:23:20.635603Z",
     "shell.execute_reply": "2022-07-25T16:23:20.719776Z"
    },
    "trusted": true,
    "colab": {
     "base_uri": "https://localhost:8080/",
     "height": 505
    },
    "id": "bXYEvj_qstUh",
    "executionInfo": {
     "status": "ok",
     "timestamp": 1659639212921,
     "user_tz": -270,
     "elapsed": 563,
     "user": {
      "displayName": "aqil zeinalzadeh",
      "userId": "15082579603328818766"
     }
    },
    "outputId": "d2eaf3eb-3893-457c-c7fa-dea013010c30"
   },
   "execution_count": 9,
   "outputs": []
  },
  {
   "cell_type": "code",
   "source": [
    "enc_tdata.head()"
   ],
   "metadata": {
    "collapsed": false,
    "pycharm": {
     "name": "#%%\n"
    }
   },
   "execution_count": 10,
   "outputs": [
    {
     "data": {
      "text/plain": "   PassengerId  Pclass                                          Name  Sex  \\\n0          892       3                              Kelly, Mr. James    0   \n1          893       3              Wilkes, Mrs. James (Ellen Needs)    1   \n2          894       2                     Myles, Mr. Thomas Francis    0   \n3          895       3                              Wirz, Mr. Albert    0   \n4          896       3  Hirvonen, Mrs. Alexander (Helga E Lindqvist)    1   \n\n    Age  SibSp  Parch   Ticket     Fare Cabin  Embarked  Title  Age_group  \\\n0  34.5      0      0   330911   7.8292   NaN         2      0          2   \n1  47.0      1      0   363272   7.0000   NaN         0      2          2   \n2  62.0      0      0   240276   9.6875   NaN         2      0          3   \n3  27.0      0      0   315154   8.6625   NaN         0      0          1   \n4  22.0      1      1  3101298  12.2875   NaN         0      2          1   \n\n   FamSize  IsAlone FamSizeLabel  FareInter  \n0        1        1        Small          0  \n1        2        0        Small          0  \n2        1        1        Small          0  \n3        1        1        Small          0  \n4        3        0        Large          0  ",
      "text/html": "<div>\n<style scoped>\n    .dataframe tbody tr th:only-of-type {\n        vertical-align: middle;\n    }\n\n    .dataframe tbody tr th {\n        vertical-align: top;\n    }\n\n    .dataframe thead th {\n        text-align: right;\n    }\n</style>\n<table border=\"1\" class=\"dataframe\">\n  <thead>\n    <tr style=\"text-align: right;\">\n      <th></th>\n      <th>PassengerId</th>\n      <th>Pclass</th>\n      <th>Name</th>\n      <th>Sex</th>\n      <th>Age</th>\n      <th>SibSp</th>\n      <th>Parch</th>\n      <th>Ticket</th>\n      <th>Fare</th>\n      <th>Cabin</th>\n      <th>Embarked</th>\n      <th>Title</th>\n      <th>Age_group</th>\n      <th>FamSize</th>\n      <th>IsAlone</th>\n      <th>FamSizeLabel</th>\n      <th>FareInter</th>\n    </tr>\n  </thead>\n  <tbody>\n    <tr>\n      <th>0</th>\n      <td>892</td>\n      <td>3</td>\n      <td>Kelly, Mr. James</td>\n      <td>0</td>\n      <td>34.5</td>\n      <td>0</td>\n      <td>0</td>\n      <td>330911</td>\n      <td>7.8292</td>\n      <td>NaN</td>\n      <td>2</td>\n      <td>0</td>\n      <td>2</td>\n      <td>1</td>\n      <td>1</td>\n      <td>Small</td>\n      <td>0</td>\n    </tr>\n    <tr>\n      <th>1</th>\n      <td>893</td>\n      <td>3</td>\n      <td>Wilkes, Mrs. James (Ellen Needs)</td>\n      <td>1</td>\n      <td>47.0</td>\n      <td>1</td>\n      <td>0</td>\n      <td>363272</td>\n      <td>7.0000</td>\n      <td>NaN</td>\n      <td>0</td>\n      <td>2</td>\n      <td>2</td>\n      <td>2</td>\n      <td>0</td>\n      <td>Small</td>\n      <td>0</td>\n    </tr>\n    <tr>\n      <th>2</th>\n      <td>894</td>\n      <td>2</td>\n      <td>Myles, Mr. Thomas Francis</td>\n      <td>0</td>\n      <td>62.0</td>\n      <td>0</td>\n      <td>0</td>\n      <td>240276</td>\n      <td>9.6875</td>\n      <td>NaN</td>\n      <td>2</td>\n      <td>0</td>\n      <td>3</td>\n      <td>1</td>\n      <td>1</td>\n      <td>Small</td>\n      <td>0</td>\n    </tr>\n    <tr>\n      <th>3</th>\n      <td>895</td>\n      <td>3</td>\n      <td>Wirz, Mr. Albert</td>\n      <td>0</td>\n      <td>27.0</td>\n      <td>0</td>\n      <td>0</td>\n      <td>315154</td>\n      <td>8.6625</td>\n      <td>NaN</td>\n      <td>0</td>\n      <td>0</td>\n      <td>1</td>\n      <td>1</td>\n      <td>1</td>\n      <td>Small</td>\n      <td>0</td>\n    </tr>\n    <tr>\n      <th>4</th>\n      <td>896</td>\n      <td>3</td>\n      <td>Hirvonen, Mrs. Alexander (Helga E Lindqvist)</td>\n      <td>1</td>\n      <td>22.0</td>\n      <td>1</td>\n      <td>1</td>\n      <td>3101298</td>\n      <td>12.2875</td>\n      <td>NaN</td>\n      <td>0</td>\n      <td>2</td>\n      <td>1</td>\n      <td>3</td>\n      <td>0</td>\n      <td>Large</td>\n      <td>0</td>\n    </tr>\n  </tbody>\n</table>\n</div>"
     },
     "execution_count": 10,
     "metadata": {},
     "output_type": "execute_result"
    }
   ]
  },
  {
   "cell_type": "markdown",
   "source": [
    "<a class=\"anchor\" id=\"DropUselessFeatures\"></a>\n",
    "#### **Drop Useless Features**\n",
    "There are some useless columns like \"Name\", \"Cabin\" that their information does not contribute in making a model.\n",
    "Moreover those columns whose data are encoded to binaries are also removed. Because I am going to work with the binary data."
   ],
   "metadata": {
    "id": "TnY4PmaNstUk"
   }
  },
  {
   "cell_type": "code",
   "source": [
    "# col = [\"Age\",\"PassengerId\",\"Sex\",\"Name\",\"Cabin\",\"Ticket\",\"Embarked\",\"Title\",\"FamSize\",\"SibSp\",\"Parch\",\"Age_group\",\"Pclass\",\"FamSizeLabel\",'Fare',\"FareInter\"]\n",
    "col = [\"PassengerId\",\"Name\",\"Cabin\",\"Ticket\"]\n",
    "enc_mdata.drop(col,axis = 1,inplace=True)\n",
    "col = [\"Name\",\"Cabin\",\"Ticket\"]\n",
    "enc_tdata.drop(col,axis = 1,inplace=True)\n"
   ],
   "metadata": {
    "execution": {
     "iopub.status.busy": "2022-07-25T16:24:54.669626Z",
     "iopub.execute_input": "2022-07-25T16:24:54.670046Z",
     "iopub.status.idle": "2022-07-25T16:24:54.678994Z",
     "shell.execute_reply.started": "2022-07-25T16:24:54.670012Z",
     "shell.execute_reply": "2022-07-25T16:24:54.677398Z"
    },
    "trusted": true,
    "id": "ftbQ8qYBstUl"
   },
   "execution_count": 11,
   "outputs": []
  },
  {
   "cell_type": "markdown",
   "source": [
    "<a class=\"anchor\" id=\"DimensionalityReduction\"></a>\n",
    "## **Dimensionality Reduction**"
   ],
   "metadata": {
    "id": "4nohmTKDstUl"
   }
  },
  {
   "cell_type": "markdown",
   "source": [
    "<a class=\"anchor\" id=\"SensitivityAnalysis\"></a>\n",
    "#### **Sensitivity Analysis**"
   ],
   "metadata": {
    "id": "GF-LVyNxstUm"
   }
  },
  {
   "cell_type": "code",
   "source": [
    "myheatmap=plt.figure(figsize=(25,8))\n",
    "# sns.heatmap(enc_mdata.corr(),annot=True)\n",
    "# plt.title(\"A\",loc='left')\n",
    "enc_mdata.corr()[\"Survived\"].sort_values(ascending=False)"
   ],
   "metadata": {
    "jupyter": {
     "outputs_hidden": false
    },
    "pycharm": {
     "name": "#%%\n"
    },
    "execution": {
     "iopub.status.busy": "2022-07-25T16:24:59.328548Z",
     "iopub.execute_input": "2022-07-25T16:24:59.328936Z",
     "iopub.status.idle": "2022-07-25T16:25:01.802139Z",
     "shell.execute_reply.started": "2022-07-25T16:24:59.328907Z",
     "shell.execute_reply": "2022-07-25T16:25:01.801283Z"
    },
    "trusted": true,
    "id": "xm-o9v4HstUm"
   },
   "execution_count": 12,
   "outputs": [
    {
     "data": {
      "text/plain": "Survived     1.000000\nSex          0.543351\nTitle        0.439524\nFare         0.257307\nFareInter    0.147466\nEmbarked     0.106811\nParch        0.081629\nFamSize      0.016639\nSibSp       -0.035322\nAge_group   -0.036177\nAge         -0.073296\nIsAlone     -0.203367\nPclass      -0.338481\nName: Survived, dtype: float64"
     },
     "execution_count": 12,
     "metadata": {},
     "output_type": "execute_result"
    },
    {
     "data": {
      "text/plain": "<Figure size 1800x576 with 0 Axes>"
     },
     "metadata": {},
     "output_type": "display_data"
    }
   ]
  },
  {
   "cell_type": "markdown",
   "source": [
    "<a class=\"anchor\" id=\"DecideonEffectiveFeatures\"></a>\n",
    "#### **Decide on Effective Features**"
   ],
   "metadata": {
    "id": "bkkQbrtQstUm"
   }
  },
  {
   "cell_type": "code",
   "source": [
    "# Feature Selection\n",
    "from sklearn.feature_selection import SelectKBest\n",
    "from sklearn.feature_selection import f_classif\n",
    "var_col =  [\"Sex\",\"Title\",\"FareInter\",\"Embarked\",\"Parch\",\"FamSize\",\"SibSp\",\"Age_group\",\"IsAlone\",\"Pclass\"]\n",
    "fit_col = \"Survived\"\n",
    "fs = SelectKBest(score_func=f_classif, k=9)\n",
    "print(\"Data shape before feature selection:\")\n",
    "print(enc_mdata.shape)\n",
    "\n",
    "# apply feature selection\n",
    "Selected_train_data = fs.fit_transform(enc_mdata[var_col], enc_mdata[fit_col])\n",
    "print(\"Data shape After feature selection:\")\n",
    "print(Selected_train_data.shape)\n",
    "\n",
    "\n",
    "\n"
   ],
   "metadata": {
    "trusted": true,
    "id": "DjvwZiKWstUn"
   },
   "execution_count": 13,
   "outputs": [
    {
     "name": "stdout",
     "output_type": "stream",
     "text": [
      "Data shape before feature selection:\n",
      "(891, 14)\n",
      "Data shape After feature selection:\n",
      "(891, 9)\n"
     ]
    }
   ]
  },
  {
   "cell_type": "code",
   "source": [
    "scaler = MinMaxScaler()\n",
    "x_std = scaler.fit_transform(Selected_train_data)"
   ],
   "metadata": {
    "trusted": true,
    "id": "r9GxWWaHstUp"
   },
   "execution_count": 14,
   "outputs": []
  },
  {
   "cell_type": "markdown",
   "source": [
    "<a class=\"anchor\" id=\"MachineLearning\"></a>\n",
    "## **Machine Learning**"
   ],
   "metadata": {
    "id": "O9VzwCwCstUq"
   }
  },
  {
   "cell_type": "markdown",
   "source": [
    "<a class=\"anchor\" id=\"Scaling\"></a>\n",
    "#### **Split Data**\n",
    "Note: All features have been encoded between 0 and 1, so the scaling data has not been employed here."
   ],
   "metadata": {
    "id": "f7bhNPxgstUr"
   }
  },
  {
   "cell_type": "code",
   "source": [
    "y = enc_mdata[fit_col].values\n",
    "y=np.reshape(y,(len(y),))\n",
    "x_train, x_test, y_train, y_test = train_test_split(Selected_train_data, y,\n",
    "                                                    train_size=0.85,\n",
    "                                                    random_state=0)"
   ],
   "metadata": {
    "trusted": true,
    "id": "EXsDgsWAstUs"
   },
   "execution_count": 15,
   "outputs": []
  },
  {
   "cell_type": "markdown",
   "source": [
    "<a class=\"anchor\" id=\"CrossValidationPrediction\"></a>\n",
    "#### **Cross Validation Prediction**\n",
    "Note: I am evaluating four different classification mehods."
   ],
   "metadata": {
    "id": "qtl82hdvstUt"
   }
  },
  {
   "cell_type": "code",
   "source": [
    "estimators = [svm.SVC(),\n",
    "              ensemble.RandomForestClassifier(),\n",
    "              KNeighborsClassifier(), SGDClassifier(),LogisticRegression()]\n",
    "\n",
    "for esti in estimators:\n",
    "    y_pred = cross_val_predict(esti,x_train,y_train,cv=3)\n",
    "    print(f\"\\nClassification Report for {esti}:\")\n",
    "    print(\"Accuracy= \", accuracy_score(y_pred, y_train))\n",
    "    print(confusion_matrix(y_pred, y_train))\n",
    "    print(classification_report(y_pred,y_train))\n",
    "        "
   ],
   "metadata": {
    "trusted": true,
    "id": "2O4WTodTstUt"
   },
   "execution_count": 16,
   "outputs": [
    {
     "name": "stdout",
     "output_type": "stream",
     "text": [
      "\n",
      "Classification Report for SVC():\n",
      "Accuracy=  0.8282694848084544\n",
      "[[414  74]\n",
      " [ 56 213]]\n",
      "              precision    recall  f1-score   support\n",
      "\n",
      "           0       0.88      0.85      0.86       488\n",
      "           1       0.74      0.79      0.77       269\n",
      "\n",
      "    accuracy                           0.83       757\n",
      "   macro avg       0.81      0.82      0.82       757\n",
      "weighted avg       0.83      0.83      0.83       757\n",
      "\n",
      "\n",
      "Classification Report for RandomForestClassifier():\n",
      "Accuracy=  0.8005284015852048\n",
      "[[413  94]\n",
      " [ 57 193]]\n",
      "              precision    recall  f1-score   support\n",
      "\n",
      "           0       0.88      0.81      0.85       507\n",
      "           1       0.67      0.77      0.72       250\n",
      "\n",
      "    accuracy                           0.80       757\n",
      "   macro avg       0.78      0.79      0.78       757\n",
      "weighted avg       0.81      0.80      0.80       757\n",
      "\n",
      "\n",
      "Classification Report for KNeighborsClassifier():\n",
      "Accuracy=  0.8150594451783355\n",
      "[[423  93]\n",
      " [ 47 194]]\n",
      "              precision    recall  f1-score   support\n",
      "\n",
      "           0       0.90      0.82      0.86       516\n",
      "           1       0.68      0.80      0.73       241\n",
      "\n",
      "    accuracy                           0.82       757\n",
      "   macro avg       0.79      0.81      0.80       757\n",
      "weighted avg       0.83      0.82      0.82       757\n",
      "\n",
      "\n",
      "Classification Report for SGDClassifier():\n",
      "Accuracy=  0.7701453104359313\n",
      "[[455 159]\n",
      " [ 15 128]]\n",
      "              precision    recall  f1-score   support\n",
      "\n",
      "           0       0.97      0.74      0.84       614\n",
      "           1       0.45      0.90      0.60       143\n",
      "\n",
      "    accuracy                           0.77       757\n",
      "   macro avg       0.71      0.82      0.72       757\n",
      "weighted avg       0.87      0.77      0.79       757\n",
      "\n",
      "\n",
      "Classification Report for LogisticRegression():\n",
      "Accuracy=  0.8137384412153237\n",
      "[[407  78]\n",
      " [ 63 209]]\n",
      "              precision    recall  f1-score   support\n",
      "\n",
      "           0       0.87      0.84      0.85       485\n",
      "           1       0.73      0.77      0.75       272\n",
      "\n",
      "    accuracy                           0.81       757\n",
      "   macro avg       0.80      0.80      0.80       757\n",
      "weighted avg       0.82      0.81      0.81       757\n",
      "\n"
     ]
    }
   ]
  },
  {
   "cell_type": "markdown",
   "source": [
    "<a class=\"anchor\" id=\"TuningHyperParameters\"></a>\n",
    "#### **Tuning Hyper Parameters**"
   ],
   "metadata": {
    "id": "nl4_917KstUu"
   }
  },
  {
   "cell_type": "code",
   "source": [
    "# Parameters of support vector machine\n",
    "\n",
    "kernel=['rbf','sigmoid']\n",
    "C= [0.5,1,2,3,5,10,15,50,100,500]\n",
    "gamma = ['scale', 'auto']\n",
    "distributions = {\n",
    "    \"kernel\": kernel,\n",
    "    \"C\": C,\n",
    "    \"gamma\" : gamma,\n",
    "}\n",
    "\n",
    "iestimator = RandomizedSearchCV(\n",
    "    svm.SVC(),\n",
    "    param_distributions=distributions,\n",
    "    n_iter = 40\n",
    ")\n",
    "\n",
    "iestimator_dict = iestimator.fit(x_train,y_train)\n",
    "best_config= iestimator_dict.best_estimator_\n",
    "best_y_pred = cross_val_predict(best_config, x_train,y_train, cv=3)\n",
    "print(\"Accuracy= \", accuracy_score(best_y_pred, y_train))\n",
    "print(confusion_matrix(best_y_pred, y_train))\n",
    "print(classification_report(best_y_pred,y_train))"
   ],
   "metadata": {
    "trusted": true,
    "id": "w-Nua-ItstUv"
   },
   "execution_count": 17,
   "outputs": [
    {
     "name": "stdout",
     "output_type": "stream",
     "text": [
      "Accuracy=  0.8282694848084544\n",
      "[[414  74]\n",
      " [ 56 213]]\n",
      "              precision    recall  f1-score   support\n",
      "\n",
      "           0       0.88      0.85      0.86       488\n",
      "           1       0.74      0.79      0.77       269\n",
      "\n",
      "    accuracy                           0.83       757\n",
      "   macro avg       0.81      0.82      0.82       757\n",
      "weighted avg       0.83      0.83      0.83       757\n",
      "\n"
     ]
    }
   ]
  },
  {
   "cell_type": "code",
   "source": [
    "# Parameters of random forest\n",
    "\n",
    "# n_estimators= [50,100,500]\n",
    "# criterion = [\"gini\", \"entrop\", \"log_loss\"]\n",
    "# max_depth = [10,50,100]\n",
    "# min_samples_split = [5,20]\n",
    "# min_samples_leaf = [5,20]\n",
    "# max_features = [\"sqrt\",\"log2\"]\n",
    "# distributions = {\n",
    "#     \"n_estimators\": n_estimators,\n",
    "#     \"criterion\": criterion,\n",
    "#     \"max_depth\":max_depth,\n",
    "#     \"min_samples_split\" : min_samples_split,\n",
    "#     \"min_samples_leaf\"  : min_samples_leaf,\n",
    "#     \"max_features\":max_features,\n",
    "#\n",
    "# }\n",
    "#\n",
    "# iestimator = RandomizedSearchCV(\n",
    "#     ensemble.RandomForestClassifier(),\n",
    "#     param_distributions=distributions,\n",
    "#     n_iter = 30\n",
    "# )\n",
    "#\n",
    "# iestimator_dict = iestimator.fit(x_train,y_train)\n",
    "# best_config= iestimator_dict.best_estimator_\n",
    "# best_y_pred = cross_val_predict(best_config, x_train,y_train, cv=3)\n",
    "# print(\"Accuracy= \", accuracy_score(best_y_pred, y_train))\n",
    "# print(confusion_matrix(best_y_pred, y_train))\n",
    "# print(classification_report(best_y_pred,y_train))"
   ],
   "metadata": {
    "trusted": true,
    "id": "yebA8YPdstUw"
   },
   "execution_count": 18,
   "outputs": []
  },
  {
   "cell_type": "markdown",
   "source": [
    "<a class=\"anchor\" id=\"Prediction\"></a>\n",
    "#### **Prediction**"
   ],
   "metadata": {
    "id": "4hSnEYLnstUx"
   }
  },
  {
   "cell_type": "code",
   "source": [
    "# tdata_final = pd.DataFrame([tdata['PassengerId'],best_config.predict(enc_tdata[var_col])],index = ['PassengerId','Survived']).T\n",
    "# tdata_final.to_csv('E:\\\\Learnings\\\\dataScience\\\\result.csv')\n"
   ],
   "metadata": {
    "trusted": true,
    "id": "_t6JL_fwstUy"
   },
   "execution_count": 19,
   "outputs": []
  },
  {
   "cell_type": "code",
   "execution_count": 19,
   "outputs": [],
   "source": [],
   "metadata": {
    "collapsed": false,
    "pycharm": {
     "name": "#%%\n"
    }
   }
  }
 ]
}